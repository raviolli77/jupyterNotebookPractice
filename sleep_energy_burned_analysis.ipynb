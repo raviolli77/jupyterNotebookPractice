{
 "cells": [
  {
   "cell_type": "code",
   "execution_count": 1,
   "metadata": {},
   "outputs": [],
   "source": [
    "import numpy as np\n",
    "import pandas as pd\n",
    "import datetime\n",
    "from datetime import timedelta\n",
    "import matplotlib.pyplot as plt"
   ]
  },
  {
   "cell_type": "code",
   "execution_count": 2,
   "metadata": {},
   "outputs": [],
   "source": [
    "exersize_time = pd.read_csv(\"data/AppleExerciseTime.csv\")"
   ]
  },
  {
   "cell_type": "code",
   "execution_count": 3,
   "metadata": {},
   "outputs": [
    {
     "data": {
      "text/html": [
       "<div>\n",
       "<style scoped>\n",
       "    .dataframe tbody tr th:only-of-type {\n",
       "        vertical-align: middle;\n",
       "    }\n",
       "\n",
       "    .dataframe tbody tr th {\n",
       "        vertical-align: top;\n",
       "    }\n",
       "\n",
       "    .dataframe thead th {\n",
       "        text-align: right;\n",
       "    }\n",
       "</style>\n",
       "<table border=\"1\" class=\"dataframe\">\n",
       "  <thead>\n",
       "    <tr style=\"text-align: right;\">\n",
       "      <th></th>\n",
       "      <th>sourceName</th>\n",
       "      <th>sourceVersion</th>\n",
       "      <th>device</th>\n",
       "      <th>type</th>\n",
       "      <th>unit</th>\n",
       "      <th>creationDate</th>\n",
       "      <th>startDate</th>\n",
       "      <th>endDate</th>\n",
       "      <th>value</th>\n",
       "    </tr>\n",
       "  </thead>\n",
       "  <tbody>\n",
       "    <tr>\n",
       "      <th>0</th>\n",
       "      <td>Aditya’s Apple Watch</td>\n",
       "      <td>3.1</td>\n",
       "      <td>&lt;&lt;HKDevice: 0x1c4c8b900&gt;, name:Apple Watch, ma...</td>\n",
       "      <td>AppleExerciseTime</td>\n",
       "      <td>min</td>\n",
       "      <td>2016-11-05 22:54:48 -0800</td>\n",
       "      <td>2016-11-05 22:51:25 -0800</td>\n",
       "      <td>2016-11-05 22:52:25 -0800</td>\n",
       "      <td>1</td>\n",
       "    </tr>\n",
       "    <tr>\n",
       "      <th>1</th>\n",
       "      <td>Aditya’s Apple Watch</td>\n",
       "      <td>3.1</td>\n",
       "      <td>&lt;&lt;HKDevice: 0x1c4c8b9a0&gt;, name:Apple Watch, ma...</td>\n",
       "      <td>AppleExerciseTime</td>\n",
       "      <td>min</td>\n",
       "      <td>2016-11-06 12:19:18 -0800</td>\n",
       "      <td>2016-11-06 12:16:32 -0800</td>\n",
       "      <td>2016-11-06 12:17:32 -0800</td>\n",
       "      <td>1</td>\n",
       "    </tr>\n",
       "    <tr>\n",
       "      <th>2</th>\n",
       "      <td>Aditya’s Apple Watch</td>\n",
       "      <td>3.1</td>\n",
       "      <td>&lt;&lt;HKDevice: 0x1c4c8b8b0&gt;, name:Apple Watch, ma...</td>\n",
       "      <td>AppleExerciseTime</td>\n",
       "      <td>min</td>\n",
       "      <td>2016-11-06 12:20:17 -0800</td>\n",
       "      <td>2016-11-06 12:18:10 -0800</td>\n",
       "      <td>2016-11-06 12:19:10 -0800</td>\n",
       "      <td>1</td>\n",
       "    </tr>\n",
       "    <tr>\n",
       "      <th>3</th>\n",
       "      <td>Aditya’s Apple Watch</td>\n",
       "      <td>3.1</td>\n",
       "      <td>&lt;&lt;HKDevice: 0x1c4c8b950&gt;, name:Apple Watch, ma...</td>\n",
       "      <td>AppleExerciseTime</td>\n",
       "      <td>min</td>\n",
       "      <td>2016-11-06 12:45:53 -0800</td>\n",
       "      <td>2016-11-06 12:43:24 -0800</td>\n",
       "      <td>2016-11-06 12:44:24 -0800</td>\n",
       "      <td>1</td>\n",
       "    </tr>\n",
       "    <tr>\n",
       "      <th>4</th>\n",
       "      <td>Aditya’s Apple Watch</td>\n",
       "      <td>3.1</td>\n",
       "      <td>&lt;&lt;HKDevice: 0x1c4c8b9f0&gt;, name:Apple Watch, ma...</td>\n",
       "      <td>AppleExerciseTime</td>\n",
       "      <td>min</td>\n",
       "      <td>2016-11-06 13:31:57 -0800</td>\n",
       "      <td>2016-11-06 13:28:50 -0800</td>\n",
       "      <td>2016-11-06 13:29:50 -0800</td>\n",
       "      <td>1</td>\n",
       "    </tr>\n",
       "  </tbody>\n",
       "</table>\n",
       "</div>"
      ],
      "text/plain": [
       "             sourceName sourceVersion  \\\n",
       "0  Aditya’s Apple Watch           3.1   \n",
       "1  Aditya’s Apple Watch           3.1   \n",
       "2  Aditya’s Apple Watch           3.1   \n",
       "3  Aditya’s Apple Watch           3.1   \n",
       "4  Aditya’s Apple Watch           3.1   \n",
       "\n",
       "                                              device               type unit  \\\n",
       "0  <<HKDevice: 0x1c4c8b900>, name:Apple Watch, ma...  AppleExerciseTime  min   \n",
       "1  <<HKDevice: 0x1c4c8b9a0>, name:Apple Watch, ma...  AppleExerciseTime  min   \n",
       "2  <<HKDevice: 0x1c4c8b8b0>, name:Apple Watch, ma...  AppleExerciseTime  min   \n",
       "3  <<HKDevice: 0x1c4c8b950>, name:Apple Watch, ma...  AppleExerciseTime  min   \n",
       "4  <<HKDevice: 0x1c4c8b9f0>, name:Apple Watch, ma...  AppleExerciseTime  min   \n",
       "\n",
       "                creationDate                  startDate  \\\n",
       "0  2016-11-05 22:54:48 -0800  2016-11-05 22:51:25 -0800   \n",
       "1  2016-11-06 12:19:18 -0800  2016-11-06 12:16:32 -0800   \n",
       "2  2016-11-06 12:20:17 -0800  2016-11-06 12:18:10 -0800   \n",
       "3  2016-11-06 12:45:53 -0800  2016-11-06 12:43:24 -0800   \n",
       "4  2016-11-06 13:31:57 -0800  2016-11-06 13:28:50 -0800   \n",
       "\n",
       "                     endDate  value  \n",
       "0  2016-11-05 22:52:25 -0800      1  \n",
       "1  2016-11-06 12:17:32 -0800      1  \n",
       "2  2016-11-06 12:19:10 -0800      1  \n",
       "3  2016-11-06 12:44:24 -0800      1  \n",
       "4  2016-11-06 13:29:50 -0800      1  "
      ]
     },
     "execution_count": 3,
     "metadata": {},
     "output_type": "execute_result"
    }
   ],
   "source": [
    "exersize_time.head()"
   ]
  },
  {
   "cell_type": "code",
   "execution_count": 4,
   "metadata": {},
   "outputs": [
    {
     "data": {
      "text/plain": [
       "sourceName       object\n",
       "sourceVersion    object\n",
       "device           object\n",
       "type             object\n",
       "unit             object\n",
       "creationDate     object\n",
       "startDate        object\n",
       "endDate          object\n",
       "value             int64\n",
       "dtype: object"
      ]
     },
     "execution_count": 4,
     "metadata": {},
     "output_type": "execute_result"
    }
   ],
   "source": [
    "exersize_time.dtypes"
   ]
  },
  {
   "cell_type": "code",
   "execution_count": 5,
   "metadata": {},
   "outputs": [],
   "source": [
    "exersize_time[\"startDate\"] = pd.to_datetime(exersize_time[\"startDate\"])\n",
    "exersize_time[\"endDate\"] = pd.to_datetime(exersize_time[\"endDate\"])"
   ]
  },
  {
   "cell_type": "code",
   "execution_count": 6,
   "metadata": {},
   "outputs": [],
   "source": [
    "exersize_time[\"startDate\"] = exersize_time[\"startDate\"].map(lambda x: str(x.month) + \"/\" + str(x.day) + \"/\" + str(x.year))"
   ]
  },
  {
   "cell_type": "code",
   "execution_count": 7,
   "metadata": {},
   "outputs": [],
   "source": [
    "combined_energy_burned = exersize_time[\"value\"].groupby(exersize_time[\"startDate\"]).sum()"
   ]
  },
  {
   "cell_type": "code",
   "execution_count": 8,
   "metadata": {},
   "outputs": [],
   "source": [
    "combined_energy_burned = combined_energy_burned.reset_index()"
   ]
  },
  {
   "cell_type": "code",
   "execution_count": 9,
   "metadata": {},
   "outputs": [],
   "source": [
    "combined_energy_burned[\"startDate\"] = pd.to_datetime(combined_energy_burned[\"startDate\"])"
   ]
  },
  {
   "cell_type": "code",
   "execution_count": 10,
   "metadata": {},
   "outputs": [
    {
     "data": {
      "text/html": [
       "<div>\n",
       "<style scoped>\n",
       "    .dataframe tbody tr th:only-of-type {\n",
       "        vertical-align: middle;\n",
       "    }\n",
       "\n",
       "    .dataframe tbody tr th {\n",
       "        vertical-align: top;\n",
       "    }\n",
       "\n",
       "    .dataframe thead th {\n",
       "        text-align: right;\n",
       "    }\n",
       "</style>\n",
       "<table border=\"1\" class=\"dataframe\">\n",
       "  <thead>\n",
       "    <tr style=\"text-align: right;\">\n",
       "      <th></th>\n",
       "      <th>startDate</th>\n",
       "      <th>value</th>\n",
       "    </tr>\n",
       "  </thead>\n",
       "  <tbody>\n",
       "    <tr>\n",
       "      <th>0</th>\n",
       "      <td>2017-01-01</td>\n",
       "      <td>10</td>\n",
       "    </tr>\n",
       "    <tr>\n",
       "      <th>1</th>\n",
       "      <td>2018-01-01</td>\n",
       "      <td>17</td>\n",
       "    </tr>\n",
       "    <tr>\n",
       "      <th>2</th>\n",
       "      <td>2017-01-10</td>\n",
       "      <td>72</td>\n",
       "    </tr>\n",
       "    <tr>\n",
       "      <th>3</th>\n",
       "      <td>2018-01-10</td>\n",
       "      <td>34</td>\n",
       "    </tr>\n",
       "    <tr>\n",
       "      <th>4</th>\n",
       "      <td>2017-01-11</td>\n",
       "      <td>59</td>\n",
       "    </tr>\n",
       "  </tbody>\n",
       "</table>\n",
       "</div>"
      ],
      "text/plain": [
       "   startDate  value\n",
       "0 2017-01-01     10\n",
       "1 2018-01-01     17\n",
       "2 2017-01-10     72\n",
       "3 2018-01-10     34\n",
       "4 2017-01-11     59"
      ]
     },
     "execution_count": 10,
     "metadata": {},
     "output_type": "execute_result"
    }
   ],
   "source": [
    "combined_energy_burned.head()"
   ]
  },
  {
   "cell_type": "code",
   "execution_count": 11,
   "metadata": {},
   "outputs": [],
   "source": [
    "sleep_activity = pd.read_csv(\"data/sleepAnalysisCombined.csv\")"
   ]
  },
  {
   "cell_type": "code",
   "execution_count": 12,
   "metadata": {},
   "outputs": [
    {
     "data": {
      "text/html": [
       "<div>\n",
       "<style scoped>\n",
       "    .dataframe tbody tr th:only-of-type {\n",
       "        vertical-align: middle;\n",
       "    }\n",
       "\n",
       "    .dataframe tbody tr th {\n",
       "        vertical-align: top;\n",
       "    }\n",
       "\n",
       "    .dataframe thead th {\n",
       "        text-align: right;\n",
       "    }\n",
       "</style>\n",
       "<table border=\"1\" class=\"dataframe\">\n",
       "  <thead>\n",
       "    <tr style=\"text-align: right;\">\n",
       "      <th></th>\n",
       "      <th>sourceName</th>\n",
       "      <th>sourceVersion</th>\n",
       "      <th>device</th>\n",
       "      <th>type</th>\n",
       "      <th>unit</th>\n",
       "      <th>creationDate</th>\n",
       "      <th>startDate</th>\n",
       "      <th>endDate</th>\n",
       "      <th>value</th>\n",
       "    </tr>\n",
       "  </thead>\n",
       "  <tbody>\n",
       "    <tr>\n",
       "      <th>0</th>\n",
       "      <td>Clock</td>\n",
       "      <td>50</td>\n",
       "      <td>&lt;&lt;HKDevice: 0x1c4a9e050&gt;, name:iPhone, manufac...</td>\n",
       "      <td>SleepAnalysis</td>\n",
       "      <td>NaN</td>\n",
       "      <td>12/16/16 8:13</td>\n",
       "      <td>12/15/16 23:33</td>\n",
       "      <td>12/16/16 8:13</td>\n",
       "      <td>HKCategoryValueSleepAnalysisInBed</td>\n",
       "    </tr>\n",
       "    <tr>\n",
       "      <th>1</th>\n",
       "      <td>Clock</td>\n",
       "      <td>50</td>\n",
       "      <td>&lt;&lt;HKDevice: 0x1c4a9dce0&gt;, name:iPhone, manufac...</td>\n",
       "      <td>SleepAnalysis</td>\n",
       "      <td>NaN</td>\n",
       "      <td>12/17/16 8:00</td>\n",
       "      <td>12/16/16 23:47</td>\n",
       "      <td>12/17/16 8:00</td>\n",
       "      <td>HKCategoryValueSleepAnalysisInBed</td>\n",
       "    </tr>\n",
       "    <tr>\n",
       "      <th>2</th>\n",
       "      <td>Clock</td>\n",
       "      <td>50</td>\n",
       "      <td>&lt;&lt;HKDevice: 0x1c4a9e1e0&gt;, name:iPhone, manufac...</td>\n",
       "      <td>SleepAnalysis</td>\n",
       "      <td>NaN</td>\n",
       "      <td>12/18/16 8:13</td>\n",
       "      <td>12/18/16 4:44</td>\n",
       "      <td>12/18/16 8:13</td>\n",
       "      <td>HKCategoryValueSleepAnalysisInBed</td>\n",
       "    </tr>\n",
       "    <tr>\n",
       "      <th>3</th>\n",
       "      <td>Clock</td>\n",
       "      <td>50</td>\n",
       "      <td>&lt;&lt;HKDevice: 0x1c4a9e370&gt;, name:iPhone, manufac...</td>\n",
       "      <td>SleepAnalysis</td>\n",
       "      <td>NaN</td>\n",
       "      <td>12/19/16 10:00</td>\n",
       "      <td>12/19/16 0:51</td>\n",
       "      <td>12/19/16 10:00</td>\n",
       "      <td>HKCategoryValueSleepAnalysisInBed</td>\n",
       "    </tr>\n",
       "    <tr>\n",
       "      <th>4</th>\n",
       "      <td>Clock</td>\n",
       "      <td>50</td>\n",
       "      <td>&lt;&lt;HKDevice: 0x1c4a9e280&gt;, name:iPhone, manufac...</td>\n",
       "      <td>SleepAnalysis</td>\n",
       "      <td>NaN</td>\n",
       "      <td>12/20/16 8:00</td>\n",
       "      <td>12/20/16 0:12</td>\n",
       "      <td>12/20/16 8:00</td>\n",
       "      <td>HKCategoryValueSleepAnalysisInBed</td>\n",
       "    </tr>\n",
       "  </tbody>\n",
       "</table>\n",
       "</div>"
      ],
      "text/plain": [
       "  sourceName  sourceVersion  \\\n",
       "0      Clock             50   \n",
       "1      Clock             50   \n",
       "2      Clock             50   \n",
       "3      Clock             50   \n",
       "4      Clock             50   \n",
       "\n",
       "                                              device           type  unit  \\\n",
       "0  <<HKDevice: 0x1c4a9e050>, name:iPhone, manufac...  SleepAnalysis   NaN   \n",
       "1  <<HKDevice: 0x1c4a9dce0>, name:iPhone, manufac...  SleepAnalysis   NaN   \n",
       "2  <<HKDevice: 0x1c4a9e1e0>, name:iPhone, manufac...  SleepAnalysis   NaN   \n",
       "3  <<HKDevice: 0x1c4a9e370>, name:iPhone, manufac...  SleepAnalysis   NaN   \n",
       "4  <<HKDevice: 0x1c4a9e280>, name:iPhone, manufac...  SleepAnalysis   NaN   \n",
       "\n",
       "     creationDate       startDate         endDate  \\\n",
       "0   12/16/16 8:13  12/15/16 23:33   12/16/16 8:13   \n",
       "1   12/17/16 8:00  12/16/16 23:47   12/17/16 8:00   \n",
       "2   12/18/16 8:13   12/18/16 4:44   12/18/16 8:13   \n",
       "3  12/19/16 10:00   12/19/16 0:51  12/19/16 10:00   \n",
       "4   12/20/16 8:00   12/20/16 0:12   12/20/16 8:00   \n",
       "\n",
       "                               value  \n",
       "0  HKCategoryValueSleepAnalysisInBed  \n",
       "1  HKCategoryValueSleepAnalysisInBed  \n",
       "2  HKCategoryValueSleepAnalysisInBed  \n",
       "3  HKCategoryValueSleepAnalysisInBed  \n",
       "4  HKCategoryValueSleepAnalysisInBed  "
      ]
     },
     "execution_count": 12,
     "metadata": {},
     "output_type": "execute_result"
    }
   ],
   "source": [
    "sleep_activity.head()"
   ]
  },
  {
   "cell_type": "code",
   "execution_count": 13,
   "metadata": {},
   "outputs": [],
   "source": [
    "sleep_activity[\"startDate\"] = pd.to_datetime(sleep_activity[\"startDate\"], format='%m/%d/%y %H:%M')\n",
    "sleep_activity[\"endDate\"] = pd.to_datetime(sleep_activity[\"endDate\"], format='%m/%d/%y %H:%M')"
   ]
  },
  {
   "cell_type": "code",
   "execution_count": 14,
   "metadata": {},
   "outputs": [],
   "source": [
    "sleep_activity[\"hoursSlept\"] = (sleep_activity[\"endDate\"] - sleep_activity[\"startDate\"]).astype('timedelta64[h]')"
   ]
  },
  {
   "cell_type": "code",
   "execution_count": 15,
   "metadata": {},
   "outputs": [],
   "source": [
    "sleep_activity[\"startDate\"] = sleep_activity[\"startDate\"].map(lambda x: str(x.month) + \"/\" + str(x.day) + \"/\" + str(x.year))"
   ]
  },
  {
   "cell_type": "code",
   "execution_count": 16,
   "metadata": {},
   "outputs": [],
   "source": [
    "sleep_activity[\"creationDate\"] = pd.to_datetime(sleep_activity[\"creationDate\"])"
   ]
  },
  {
   "cell_type": "code",
   "execution_count": 17,
   "metadata": {},
   "outputs": [],
   "source": [
    "sleep_frame = sleep_activity[\"hoursSlept\"].groupby(sleep_activity[\"startDate\"]).sum()"
   ]
  },
  {
   "cell_type": "code",
   "execution_count": 18,
   "metadata": {},
   "outputs": [],
   "source": [
    "sleep_frame = sleep_frame.reset_index()"
   ]
  },
  {
   "cell_type": "code",
   "execution_count": 19,
   "metadata": {},
   "outputs": [
    {
     "data": {
      "text/html": [
       "<div>\n",
       "<style scoped>\n",
       "    .dataframe tbody tr th:only-of-type {\n",
       "        vertical-align: middle;\n",
       "    }\n",
       "\n",
       "    .dataframe tbody tr th {\n",
       "        vertical-align: top;\n",
       "    }\n",
       "\n",
       "    .dataframe thead th {\n",
       "        text-align: right;\n",
       "    }\n",
       "</style>\n",
       "<table border=\"1\" class=\"dataframe\">\n",
       "  <thead>\n",
       "    <tr style=\"text-align: right;\">\n",
       "      <th></th>\n",
       "      <th>startDate</th>\n",
       "      <th>hoursSlept</th>\n",
       "    </tr>\n",
       "  </thead>\n",
       "  <tbody>\n",
       "    <tr>\n",
       "      <th>0</th>\n",
       "      <td>1/1/2017</td>\n",
       "      <td>5.0</td>\n",
       "    </tr>\n",
       "    <tr>\n",
       "      <th>1</th>\n",
       "      <td>1/1/2018</td>\n",
       "      <td>6.0</td>\n",
       "    </tr>\n",
       "    <tr>\n",
       "      <th>2</th>\n",
       "      <td>1/10/2018</td>\n",
       "      <td>1.0</td>\n",
       "    </tr>\n",
       "    <tr>\n",
       "      <th>3</th>\n",
       "      <td>1/11/2017</td>\n",
       "      <td>5.0</td>\n",
       "    </tr>\n",
       "    <tr>\n",
       "      <th>4</th>\n",
       "      <td>1/11/2018</td>\n",
       "      <td>2.0</td>\n",
       "    </tr>\n",
       "  </tbody>\n",
       "</table>\n",
       "</div>"
      ],
      "text/plain": [
       "   startDate  hoursSlept\n",
       "0   1/1/2017         5.0\n",
       "1   1/1/2018         6.0\n",
       "2  1/10/2018         1.0\n",
       "3  1/11/2017         5.0\n",
       "4  1/11/2018         2.0"
      ]
     },
     "execution_count": 19,
     "metadata": {},
     "output_type": "execute_result"
    }
   ],
   "source": [
    "sleep_frame.head()"
   ]
  },
  {
   "cell_type": "code",
   "execution_count": 20,
   "metadata": {},
   "outputs": [],
   "source": [
    "final_df = combined_energy_burned.set_index(\"startDate\").join(sleep_frame.set_index(\"startDate\"), how=\"outer\")"
   ]
  },
  {
   "cell_type": "code",
   "execution_count": 21,
   "metadata": {},
   "outputs": [
    {
     "data": {
      "text/plain": [
       "<matplotlib.axes._subplots.AxesSubplot at 0x7f30c1042b70>"
      ]
     },
     "execution_count": 21,
     "metadata": {},
     "output_type": "execute_result"
    },
    {
     "data": {
      "image/png": "[encoded data removed]",
      "text/plain": [
       "<matplotlib.figure.Figure at 0x7f30c1042e10>"
      ]
     },
     "metadata": {},
     "output_type": "display_data"
    }
   ],
   "source": [
    "final_df.plot(x = \"value\", y = \"hoursSlept\", kind='scatter')"
   ]
  },
  {
   "cell_type": "code",
   "execution_count": null,
   "metadata": {},
   "outputs": [],
   "source": []
  }
 ],
 "metadata": {
  "kernelspec": {
   "display_name": "Python 3",
   "language": "python",
   "name": "python3"
  },
  "language_info": {
   "codemirror_mode": {
    "name": "ipython",
    "version": 3
   },
   "file_extension": ".py",
   "mimetype": "text/x-python",
   "name": "python",
   "nbconvert_exporter": "python",
   "pygments_lexer": "ipython3",
   "version": "3.5.2"
  }
 },
 "nbformat": 4,
 "nbformat_minor": 2
}
